{
  "nbformat": 4,
  "nbformat_minor": 0,
  "metadata": {
    "colab": {
      "provenance": [],
      "collapsed_sections": []
    },
    "kernelspec": {
      "name": "python3",
      "display_name": "Python 3"
    },
    "language_info": {
      "name": "python"
    }
  },
  "cells": [
    {
      "cell_type": "code",
      "source": [
        "from google.colab import drive\n",
        "drive.mount('/gdrive')\n"
      ],
      "metadata": {
        "colab": {
          "base_uri": "https://localhost:8080/"
        },
        "id": "e0-aS-ruPbAV",
        "outputId": "230aa00f-750c-4baf-d9d7-6895b302e806"
      },
      "execution_count": null,
      "outputs": [
        {
          "output_type": "stream",
          "name": "stdout",
          "text": [
            "Drive already mounted at /gdrive; to attempt to forcibly remount, call drive.mount(\"/gdrive\", force_remount=True).\n"
          ]
        }
      ]
    },
    {
      "cell_type": "code",
      "source": [
        "import os\n",
        "import datetime\n",
        "import cv2\n",
        "import numpy as np\n",
        "import ssim.ssimlib as pyssim\n",
        "from skimage import measure\n",
        "##from skimage.measure import structural_similarity as ssim\n",
        "from skimage.metrics import structural_similarity as ssim\n",
        "from sklearn.cluster import SpectralClustering, AffinityPropagation\n",
        "from sklearn import metrics\n",
        "\n",
        "# Constant definitions\n",
        "SIM_IMAGE_SIZE = (640, 480)\n",
        "SIFT_RATIO = 0.7\n",
        "MSE_NUMERATOR = 1000.0\n",
        "IMAGES_PER_CLUSTER = 5\n",
        "\n",
        "\"\"\" Returns the normalized similarity value (from 0.0 to 1.0) for the provided pair of images.\n",
        "    The following algorithms are supported:\n",
        "    * SIFT: Scale-invariant Feature Transform\n",
        "    * SSIM: Structural Similarity Index\n",
        "    * CW-SSIM: Complex Wavelet Structural Similarity Index\n",
        "    * MSE: Mean Squared Error\n",
        "\"\"\"\n",
        "\n",
        "def get_image_similarity(img1, img2, algorithm='SIFT'):\n",
        "    # Converting to grayscale and resizing\n",
        "\n",
        "    i1 = cv2.resize(cv2.imread(img1, cv2.IMREAD_GRAYSCALE), SIM_IMAGE_SIZE)\n",
        "    i2 = cv2.resize(cv2.imread(img2, cv2.IMREAD_GRAYSCALE), SIM_IMAGE_SIZE)\n",
        "\n",
        "    similarity = 0.0\n",
        "\n",
        "    if algorithm == 'SIFT':\n",
        "        # Using OpenCV for feature detection and matching\n",
        "        sift = cv2.xfeatures2d.SIFT_create()\n",
        "        k1, d1 = sift.detectAndCompute(i1, None)\n",
        "        k2, d2 = sift.detectAndCompute(i2, None)\n",
        "\n",
        "        bf = cv2.BFMatcher()\n",
        "        matches = bf.knnMatch(d1, d2, k=2)\n",
        "\n",
        "        for m, n in matches:\n",
        "            if m.distance < SIFT_RATIO * n.distance:\n",
        "                similarity += 1.0\n",
        "\n",
        "        # Custom normalization for better variance in the similarity matrix\n",
        "        if similarity == len(matches):\n",
        "            similarity = 1.0\n",
        "        elif similarity > 1.0:\n",
        "            similarity = 1.0 - 1.0/similarity\n",
        "        elif similarity == 1.0:\n",
        "            similarity = 0.1\n",
        "        else:\n",
        "            similarity = 0.0\n",
        "    elif algorithm == 'CW-SSIM':\n",
        "        # FOR EXPERIMENTS ONLY!\n",
        "        # Very slow algorithm - up to 50x times slower than SIFT or SSIM.\n",
        "        # Optimization using CUDA or Cython code should be explored in the future.\n",
        "        similarity = pyssim.SSIM(img1).cw_ssim_value(img2)\n",
        "    elif algorithm == 'SSIM':\n",
        "        # Default SSIM implementation of Scikit-Image\n",
        "        similarity = ssim(i1, i2)\n",
        "    else:\n",
        "        # Using MSE algorithm with custom normalization\n",
        "        err = np.sum((i1.astype(\"float\") - i2.astype(\"float\")) ** 2)\n",
        "        err /= float(i1.shape[0] * i2.shape[1])\n",
        "\n",
        "        if err > 0.0:\n",
        "            similarity = MSE_NUMERATOR / err\n",
        "        else:\n",
        "            similarity = 1.0\n",
        "\n",
        "    return similarity\n",
        "\n",
        "  "
      ],
      "metadata": {
        "id": "MQabhpDGJfjv"
      },
      "execution_count": null,
      "outputs": []
    },
    {
      "cell_type": "code",
      "source": [
        "# Fetches all images from the provided directory and calculates the similarity\n",
        "# value per image pair.\n",
        "def build_similarity_matrix(dir_name, algorithm='SIFT'):\n",
        "    images = os.listdir(dir_name)\n",
        "    num_images = len(images)\n",
        "    sm = np.zeros(shape=(num_images, num_images), dtype=np.float64)\n",
        "    np.fill_diagonal(sm, 1.0)\n",
        "\n",
        "    print(\"Building the similarity matrix using %s algorithm for %d images\" %\n",
        "          (algorithm, num_images))\n",
        "    start_total = datetime.datetime.now()\n",
        "    print(num_images)\n",
        "    # Traversing the upper triangle only - transposed matrix will be used\n",
        "    # later for filling the empty cells.\n",
        "    k = 0\n",
        "    for i in range(sm.shape[0]):\n",
        "        for j in range(sm.shape[1]):\n",
        "            j = j + k\n",
        "            if i != j and j < sm.shape[1]:\n",
        "                sm[i][j] = get_image_similarity('%s/%s' % (dir_name, images[i]),\n",
        "                                                '%s/%s' % (dir_name, images[j]),\n",
        "                                                algorithm=algorithm)\n",
        "        k += 1\n",
        "\n",
        "    # Adding the transposed matrix and subtracting the diagonal to obtain\n",
        "    # the symmetric similarity matrix\n",
        "    sm = sm + sm.T - np.diag(sm.diagonal())\n",
        "\n",
        "    end_total = datetime.datetime.now()\n",
        "    print(\"Done - total calculation time: %d seconds\" % (end_total - start_total).total_seconds())\n",
        "    return sm\n"
      ],
      "metadata": {
        "id": "aHk3qymWQzRA"
      },
      "execution_count": null,
      "outputs": []
    },
    {
      "cell_type": "code",
      "source": [
        "def get_cluster_metrics(X, labels, labels_true=None):\n",
        "    metrics_dict = dict()\n",
        "    metrics_dict['Silhouette coefficient'] = metrics.silhouette_score(X,\n",
        "                                                                      labels,\n",
        "                                                                      metric='precomputed')##this tells whether this model is performing well\n",
        "    if labels_true:\n",
        "        metrics_dict['Completeness score'] = metrics.completeness_score(labels_true, labels)\n",
        "        metrics_dict['Homogeneity score'] = metrics.homogeneity_score(labels_true, labels)\n",
        "\n",
        "    return metrics_dict"
      ],
      "metadata": {
        "id": "22XHYB6JUaLn"
      },
      "execution_count": null,
      "outputs": []
    },
    {
      "cell_type": "code",
      "source": [
        "\"\"\" Executes two algorithms for similarity-based clustering:\n",
        "    * Spectral Clustering\n",
        "    * Affinity Propagation\n",
        "    ... and selects the best results according to the clustering performance metrics.\n",
        "\"\"\"\n",
        "def do_cluster(dir_name, algorithm='SIFT', print_metrics=True, labels_true=None):\n",
        "    matrix = build_similarity_matrix(dir_name, algorithm=algorithm)\n",
        "\n",
        "    sc = SpectralClustering(n_clusters=int(matrix.shape[0]/IMAGES_PER_CLUSTER),\n",
        "                            affinity='precomputed').fit(matrix)\n",
        "    sc_metrics = get_cluster_metrics(matrix, sc.labels_, labels_true)\n",
        "\n",
        "    if print_metrics:\n",
        "        print(\"\\nPerformance metrics for Spectral Clustering\")\n",
        "        print(\"Number of clusters: %d\" % len(set(sc.labels_)))\n",
        "        [print(\"%s: %.2f\" % (k, sc_metrics[k])) for k in list(sc_metrics.keys())]\n",
        "\n",
        "    af = AffinityPropagation(affinity='precomputed').fit(matrix)\n",
        "    af_metrics = get_cluster_metrics(matrix, af.labels_, labels_true)\n",
        "\n",
        "    if print_metrics:\n",
        "        print(\"\\nPerformance metrics for Affinity Propagation Clustering\")\n",
        "        print(\"Number of clusters: %d\" % len(set(af.labels_)))\n",
        "        [print(\"%s: %.2f\" % (k, af_metrics[k])) for k in list(af_metrics.keys())]\n",
        "\n",
        "    if (sc_metrics['Silhouette coefficient'] >= af_metrics['Silhouette coefficient']) and \\\n",
        "            (sc_metrics['Completeness score'] >= af_metrics['Completeness score'] or\n",
        "             sc_metrics['Homogeneity score'] >= af_metrics['Homogeneity score']):\n",
        "        print(\"\\nSelected Spectral Clustering for the labeling results\")\n",
        "        return sc.labels_\n",
        "    else:\n",
        "        print(\"\\nSelected Affinity Propagation for the labeling results\")\n",
        "        return af.labels_"
      ],
      "metadata": {
        "id": "oUEENkp1VG2I"
      },
      "execution_count": null,
      "outputs": []
    },
    {
      "cell_type": "code",
      "source": [
        "%%javascript\n",
        "IPython.OutputArea.auto_scroll_threshold = 9999;"
      ],
      "metadata": {
        "colab": {
          "base_uri": "https://localhost:8080/",
          "height": 17
        },
        "id": "6Wdoi58_VPA1",
        "outputId": "9e07aec7-bb02-43a2-84b9-225f6a4489a0"
      },
      "execution_count": null,
      "outputs": [
        {
          "output_type": "display_data",
          "data": {
            "text/plain": [
              "<IPython.core.display.Javascript object>"
            ],
            "application/javascript": [
              "IPython.OutputArea.auto_scroll_threshold = 9999;\n"
            ]
          },
          "metadata": {}
        }
      ]
    },
    {
      "cell_type": "code",
      "source": [
        "%matplotlib inline\n",
        "from matplotlib import pyplot as plt\n",
        "\n",
        "DIR_NAME = '/gdrive/MyDrive/Dataset'\n",
        "\n",
        "# Demo for clustering a set of 30 images using 'imgcluster' module.\n",
        "# To be executed in the standalone mode by default. IP[y] Notebook requires some minor adjustments.\n",
        "\n",
        "\"\"\" True (reference) labels for the provided images - defined manually according to the semantic\n",
        "    meaning of images. For example: bear, raccoon and fox should belong to the same cluster.\n",
        "    Please feel free to change the true labels according to your perception of these images  :-)\n",
        "\"\"\"\n",
        "TRUE_LABELS = [0, 0, 0, 0, 0, 0, 0, 0, 0, 0, 1, 1, 1, 1, 1, 1, 1, 1, 1, 1, 2, 2, 2, 2, 2, 2, 2, 2, 2, 2]\n",
        "\n",
        "c = do_cluster(DIR_NAME, algorithm='SIFT', print_metrics=True, labels_true=TRUE_LABELS)\n",
        "num_clusters = len(set(c))\n",
        "images = os.listdir(DIR_NAME)\n",
        "plt.axis('off')\n",
        "\n",
        "for n in range(num_clusters):\n",
        "    print(\"\\n --- Images from cluster #%d ---\" % n)\n",
        "\n",
        "    for i in np.argwhere(c == n):\n",
        "        if i != -1:\n",
        "            print(\"Image %s\" % images[i])\n",
        "            img = cv2.imread('%s/%s' % (DIR_NAME, images[i]))\n",
        "            plt.axis('off')\n",
        "            plt.imshow(cv2.cvtColor(img, cv2.COLOR_BGR2RGB))\n",
        "            plt.show()"
      ],
      "metadata": {
        "colab": {
          "base_uri": "https://localhost:8080/",
          "height": 432
        },
        "id": "aviKaebyVQUj",
        "outputId": "58bb0ea3-f751-4cd0-f520-6b59beac118e"
      },
      "execution_count": null,
      "outputs": [
        {
          "output_type": "stream",
          "name": "stdout",
          "text": [
            "Building the similarity matrix using SIFT algorithm for 30 images\n",
            "30\n",
            "Done - total calculation time: 242 seconds\n"
          ]
        },
        {
          "output_type": "error",
          "ename": "ValueError",
          "evalue": "ignored",
          "traceback": [
            "\u001b[0;31m---------------------------------------------------------------------------\u001b[0m",
            "\u001b[0;31mValueError\u001b[0m                                Traceback (most recent call last)",
            "\u001b[0;32m<ipython-input-7-814205c2a337>\u001b[0m in \u001b[0;36m<module>\u001b[0;34m\u001b[0m\n\u001b[1;32m     13\u001b[0m \u001b[0mTRUE_LABELS\u001b[0m \u001b[0;34m=\u001b[0m \u001b[0;34m[\u001b[0m\u001b[0;36m0\u001b[0m\u001b[0;34m,\u001b[0m \u001b[0;36m0\u001b[0m\u001b[0;34m,\u001b[0m \u001b[0;36m0\u001b[0m\u001b[0;34m,\u001b[0m \u001b[0;36m0\u001b[0m\u001b[0;34m,\u001b[0m \u001b[0;36m0\u001b[0m\u001b[0;34m,\u001b[0m \u001b[0;36m0\u001b[0m\u001b[0;34m,\u001b[0m \u001b[0;36m0\u001b[0m\u001b[0;34m,\u001b[0m \u001b[0;36m0\u001b[0m\u001b[0;34m,\u001b[0m \u001b[0;36m0\u001b[0m\u001b[0;34m,\u001b[0m \u001b[0;36m0\u001b[0m\u001b[0;34m,\u001b[0m \u001b[0;36m1\u001b[0m\u001b[0;34m,\u001b[0m \u001b[0;36m1\u001b[0m\u001b[0;34m,\u001b[0m \u001b[0;36m1\u001b[0m\u001b[0;34m,\u001b[0m \u001b[0;36m1\u001b[0m\u001b[0;34m,\u001b[0m \u001b[0;36m1\u001b[0m\u001b[0;34m,\u001b[0m \u001b[0;36m1\u001b[0m\u001b[0;34m,\u001b[0m \u001b[0;36m1\u001b[0m\u001b[0;34m,\u001b[0m \u001b[0;36m1\u001b[0m\u001b[0;34m,\u001b[0m \u001b[0;36m1\u001b[0m\u001b[0;34m,\u001b[0m \u001b[0;36m1\u001b[0m\u001b[0;34m,\u001b[0m \u001b[0;36m2\u001b[0m\u001b[0;34m,\u001b[0m \u001b[0;36m2\u001b[0m\u001b[0;34m,\u001b[0m \u001b[0;36m2\u001b[0m\u001b[0;34m,\u001b[0m \u001b[0;36m2\u001b[0m\u001b[0;34m,\u001b[0m \u001b[0;36m2\u001b[0m\u001b[0;34m,\u001b[0m \u001b[0;36m2\u001b[0m\u001b[0;34m,\u001b[0m \u001b[0;36m2\u001b[0m\u001b[0;34m,\u001b[0m \u001b[0;36m2\u001b[0m\u001b[0;34m,\u001b[0m \u001b[0;36m2\u001b[0m\u001b[0;34m,\u001b[0m \u001b[0;36m2\u001b[0m\u001b[0;34m]\u001b[0m\u001b[0;34m\u001b[0m\u001b[0;34m\u001b[0m\u001b[0m\n\u001b[1;32m     14\u001b[0m \u001b[0;34m\u001b[0m\u001b[0m\n\u001b[0;32m---> 15\u001b[0;31m \u001b[0mc\u001b[0m \u001b[0;34m=\u001b[0m \u001b[0mdo_cluster\u001b[0m\u001b[0;34m(\u001b[0m\u001b[0mDIR_NAME\u001b[0m\u001b[0;34m,\u001b[0m \u001b[0malgorithm\u001b[0m\u001b[0;34m=\u001b[0m\u001b[0;34m'SIFT'\u001b[0m\u001b[0;34m,\u001b[0m \u001b[0mprint_metrics\u001b[0m\u001b[0;34m=\u001b[0m\u001b[0;32mTrue\u001b[0m\u001b[0;34m,\u001b[0m \u001b[0mlabels_true\u001b[0m\u001b[0;34m=\u001b[0m\u001b[0mTRUE_LABELS\u001b[0m\u001b[0;34m)\u001b[0m\u001b[0;34m\u001b[0m\u001b[0;34m\u001b[0m\u001b[0m\n\u001b[0m\u001b[1;32m     16\u001b[0m \u001b[0mnum_clusters\u001b[0m \u001b[0;34m=\u001b[0m \u001b[0mlen\u001b[0m\u001b[0;34m(\u001b[0m\u001b[0mset\u001b[0m\u001b[0;34m(\u001b[0m\u001b[0mc\u001b[0m\u001b[0;34m)\u001b[0m\u001b[0;34m)\u001b[0m\u001b[0;34m\u001b[0m\u001b[0;34m\u001b[0m\u001b[0m\n\u001b[1;32m     17\u001b[0m \u001b[0mimages\u001b[0m \u001b[0;34m=\u001b[0m \u001b[0mos\u001b[0m\u001b[0;34m.\u001b[0m\u001b[0mlistdir\u001b[0m\u001b[0;34m(\u001b[0m\u001b[0mDIR_NAME\u001b[0m\u001b[0;34m)\u001b[0m\u001b[0;34m\u001b[0m\u001b[0;34m\u001b[0m\u001b[0m\n",
            "\u001b[0;32m<ipython-input-5-892428786a5c>\u001b[0m in \u001b[0;36mdo_cluster\u001b[0;34m(dir_name, algorithm, print_metrics, labels_true)\u001b[0m\n\u001b[1;32m      9\u001b[0m     sc = SpectralClustering(n_clusters=int(matrix.shape[0]/IMAGES_PER_CLUSTER),\n\u001b[1;32m     10\u001b[0m                             affinity='precomputed').fit(matrix)\n\u001b[0;32m---> 11\u001b[0;31m     \u001b[0msc_metrics\u001b[0m \u001b[0;34m=\u001b[0m \u001b[0mget_cluster_metrics\u001b[0m\u001b[0;34m(\u001b[0m\u001b[0mmatrix\u001b[0m\u001b[0;34m,\u001b[0m \u001b[0msc\u001b[0m\u001b[0;34m.\u001b[0m\u001b[0mlabels_\u001b[0m\u001b[0;34m,\u001b[0m \u001b[0mlabels_true\u001b[0m\u001b[0;34m)\u001b[0m\u001b[0;34m\u001b[0m\u001b[0;34m\u001b[0m\u001b[0m\n\u001b[0m\u001b[1;32m     12\u001b[0m \u001b[0;34m\u001b[0m\u001b[0m\n\u001b[1;32m     13\u001b[0m     \u001b[0;32mif\u001b[0m \u001b[0mprint_metrics\u001b[0m\u001b[0;34m:\u001b[0m\u001b[0;34m\u001b[0m\u001b[0;34m\u001b[0m\u001b[0m\n",
            "\u001b[0;32m<ipython-input-4-7ebe62abf576>\u001b[0m in \u001b[0;36mget_cluster_metrics\u001b[0;34m(X, labels, labels_true)\u001b[0m\n\u001b[1;32m      3\u001b[0m     metrics_dict['Silhouette coefficient'] = metrics.silhouette_score(X,\n\u001b[1;32m      4\u001b[0m                                                                       \u001b[0mlabels\u001b[0m\u001b[0;34m,\u001b[0m\u001b[0;34m\u001b[0m\u001b[0;34m\u001b[0m\u001b[0m\n\u001b[0;32m----> 5\u001b[0;31m                                                                       metric='precomputed')\n\u001b[0m\u001b[1;32m      6\u001b[0m     \u001b[0;32mif\u001b[0m \u001b[0mlabels_true\u001b[0m\u001b[0;34m:\u001b[0m\u001b[0;34m\u001b[0m\u001b[0;34m\u001b[0m\u001b[0m\n\u001b[1;32m      7\u001b[0m         \u001b[0mmetrics_dict\u001b[0m\u001b[0;34m[\u001b[0m\u001b[0;34m'Completeness score'\u001b[0m\u001b[0;34m]\u001b[0m \u001b[0;34m=\u001b[0m \u001b[0mmetrics\u001b[0m\u001b[0;34m.\u001b[0m\u001b[0mcompleteness_score\u001b[0m\u001b[0;34m(\u001b[0m\u001b[0mlabels_true\u001b[0m\u001b[0;34m,\u001b[0m \u001b[0mlabels\u001b[0m\u001b[0;34m)\u001b[0m\u001b[0;34m\u001b[0m\u001b[0;34m\u001b[0m\u001b[0m\n",
            "\u001b[0;32m/usr/local/lib/python3.7/dist-packages/sklearn/metrics/cluster/_unsupervised.py\u001b[0m in \u001b[0;36msilhouette_score\u001b[0;34m(X, labels, metric, sample_size, random_state, **kwds)\u001b[0m\n\u001b[1;32m    115\u001b[0m         \u001b[0;32melse\u001b[0m\u001b[0;34m:\u001b[0m\u001b[0;34m\u001b[0m\u001b[0;34m\u001b[0m\u001b[0m\n\u001b[1;32m    116\u001b[0m             \u001b[0mX\u001b[0m\u001b[0;34m,\u001b[0m \u001b[0mlabels\u001b[0m \u001b[0;34m=\u001b[0m \u001b[0mX\u001b[0m\u001b[0;34m[\u001b[0m\u001b[0mindices\u001b[0m\u001b[0;34m]\u001b[0m\u001b[0;34m,\u001b[0m \u001b[0mlabels\u001b[0m\u001b[0;34m[\u001b[0m\u001b[0mindices\u001b[0m\u001b[0;34m]\u001b[0m\u001b[0;34m\u001b[0m\u001b[0;34m\u001b[0m\u001b[0m\n\u001b[0;32m--> 117\u001b[0;31m     \u001b[0;32mreturn\u001b[0m \u001b[0mnp\u001b[0m\u001b[0;34m.\u001b[0m\u001b[0mmean\u001b[0m\u001b[0;34m(\u001b[0m\u001b[0msilhouette_samples\u001b[0m\u001b[0;34m(\u001b[0m\u001b[0mX\u001b[0m\u001b[0;34m,\u001b[0m \u001b[0mlabels\u001b[0m\u001b[0;34m,\u001b[0m \u001b[0mmetric\u001b[0m\u001b[0;34m=\u001b[0m\u001b[0mmetric\u001b[0m\u001b[0;34m,\u001b[0m \u001b[0;34m**\u001b[0m\u001b[0mkwds\u001b[0m\u001b[0;34m)\u001b[0m\u001b[0;34m)\u001b[0m\u001b[0;34m\u001b[0m\u001b[0;34m\u001b[0m\u001b[0m\n\u001b[0m\u001b[1;32m    118\u001b[0m \u001b[0;34m\u001b[0m\u001b[0m\n\u001b[1;32m    119\u001b[0m \u001b[0;34m\u001b[0m\u001b[0m\n",
            "\u001b[0;32m/usr/local/lib/python3.7/dist-packages/sklearn/metrics/cluster/_unsupervised.py\u001b[0m in \u001b[0;36msilhouette_samples\u001b[0;34m(X, labels, metric, **kwds)\u001b[0m\n\u001b[1;32m    217\u001b[0m         \u001b[0;32mif\u001b[0m \u001b[0mnp\u001b[0m\u001b[0;34m.\u001b[0m\u001b[0many\u001b[0m\u001b[0;34m(\u001b[0m\u001b[0mnp\u001b[0m\u001b[0;34m.\u001b[0m\u001b[0mabs\u001b[0m\u001b[0;34m(\u001b[0m\u001b[0mnp\u001b[0m\u001b[0;34m.\u001b[0m\u001b[0mdiagonal\u001b[0m\u001b[0;34m(\u001b[0m\u001b[0mX\u001b[0m\u001b[0;34m)\u001b[0m\u001b[0;34m)\u001b[0m \u001b[0;34m>\u001b[0m \u001b[0matol\u001b[0m\u001b[0;34m)\u001b[0m\u001b[0;34m:\u001b[0m\u001b[0;34m\u001b[0m\u001b[0;34m\u001b[0m\u001b[0m\n\u001b[1;32m    218\u001b[0m             raise ValueError(\n\u001b[0;32m--> 219\u001b[0;31m                 \u001b[0;34m\"The precomputed distance matrix contains non-zero \"\u001b[0m\u001b[0;34m\u001b[0m\u001b[0;34m\u001b[0m\u001b[0m\n\u001b[0m\u001b[1;32m    220\u001b[0m                 \u001b[0;34m\"elements on the diagonal. Use np.fill_diagonal(X, 0).\"\u001b[0m\u001b[0;34m\u001b[0m\u001b[0;34m\u001b[0m\u001b[0m\n\u001b[1;32m    221\u001b[0m             )\n",
            "\u001b[0;31mValueError\u001b[0m: The precomputed distance matrix contains non-zero elements on the diagonal. Use np.fill_diagonal(X, 0)."
          ]
        }
      ]
    },
    {
      "cell_type": "code",
      "source": [
        " "
      ],
      "metadata": {
        "id": "jqXxGvdlmD7K"
      },
      "execution_count": null,
      "outputs": []
    }
  ]
}